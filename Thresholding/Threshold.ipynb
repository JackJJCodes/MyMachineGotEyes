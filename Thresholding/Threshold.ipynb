{
 "metadata": {
  "language_info": {
   "codemirror_mode": {
    "name": "ipython",
    "version": 3
   },
   "file_extension": ".py",
   "mimetype": "text/x-python",
   "name": "python",
   "nbconvert_exporter": "python",
   "pygments_lexer": "ipython3",
   "version": "3.9.2"
  },
  "orig_nbformat": 2,
  "kernelspec": {
   "name": "python392jvsc74a57bd033dc6d49505b4536b6a128d9d7c879e1fa44477ad44947bbbe73093067fe6393",
   "display_name": "Python 3.9.2 64-bit"
  },
  "metadata": {
   "interpreter": {
    "hash": "33dc6d49505b4536b6a128d9d7c879e1fa44477ad44947bbbe73093067fe6393"
   }
  }
 },
 "nbformat": 4,
 "nbformat_minor": 2,
 "cells": [
  {
   "source": [
    "Importing Standard Libraries"
   ],
   "cell_type": "markdown",
   "metadata": {}
  },
  {
   "source": [
    "import cv2"
   ],
   "cell_type": "code",
   "metadata": {},
   "execution_count": 1,
   "outputs": []
  },
  {
   "source": [
    "Read Image"
   ],
   "cell_type": "markdown",
   "metadata": {}
  },
  {
   "cell_type": "code",
   "execution_count": 4,
   "metadata": {},
   "outputs": [],
   "source": [
    "src = cv2.imread(\".\\\\threshold.jpeg\", cv2.IMREAD_GRAYSCALE)"
   ]
  },
  {
   "source": [
    "Basic Threshold Example"
   ],
   "cell_type": "markdown",
   "metadata": {}
  },
  {
   "cell_type": "code",
   "execution_count": 5,
   "metadata": {},
   "outputs": [
    {
     "output_type": "execute_result",
     "data": {
      "text/plain": [
       "True"
      ]
     },
     "metadata": {},
     "execution_count": 5
    }
   ],
   "source": [
    "th, dst = cv2.threshold(src, 0, 255, cv2.THRESH_BINARY)\n",
    "cv2.imwrite(\"openCV-threshold-example.jpeg\", dst)"
   ]
  },
  {
   "source": [
    "Thresholding with maxValue set to 128"
   ],
   "cell_type": "markdown",
   "metadata": {}
  },
  {
   "cell_type": "code",
   "execution_count": 6,
   "metadata": {},
   "outputs": [
    {
     "output_type": "execute_result",
     "data": {
      "text/plain": [
       "True"
      ]
     },
     "metadata": {},
     "execution_count": 6
    }
   ],
   "source": [
    "th, dst = cv2.threshold(src, 0, 128, cv2.THRESH_BINARY)\n",
    "cv2.imwrite(\"openCV-threshold-maxVal.jpeg\", dst)"
   ]
  },
  {
   "source": [
    "Thresholding with threshold value set to 127"
   ],
   "cell_type": "markdown",
   "metadata": {}
  },
  {
   "cell_type": "code",
   "execution_count": 7,
   "metadata": {},
   "outputs": [
    {
     "output_type": "execute_result",
     "data": {
      "text/plain": [
       "True"
      ]
     },
     "metadata": {},
     "execution_count": 7
    }
   ],
   "source": [
    "th, dst = cv2.threshold(src, 127, 255, cv2.THRESH_BINARY)\n",
    "cv2.imwrite(\"openCV-threshold-minVal.jpeg\", dst)"
   ]
  },
  {
   "source": [
    "Thresholding using THRESH_BINARY_INV"
   ],
   "cell_type": "markdown",
   "metadata": {}
  },
  {
   "cell_type": "code",
   "execution_count": 8,
   "metadata": {},
   "outputs": [
    {
     "output_type": "execute_result",
     "data": {
      "text/plain": [
       "True"
      ]
     },
     "metadata": {},
     "execution_count": 8
    }
   ],
   "source": [
    "th, dst = cv2.threshold(src, 127, 255, cv2.THRESH_BINARY_INV)\n",
    "cv2.imwrite(\"openCV-threshold-binary-inv.jpeg\", dst)"
   ]
  },
  {
   "source": [
    "Thresholding using THRESH_TRUNC"
   ],
   "cell_type": "markdown",
   "metadata": {}
  },
  {
   "cell_type": "code",
   "execution_count": 9,
   "metadata": {},
   "outputs": [
    {
     "output_type": "execute_result",
     "data": {
      "text/plain": [
       "True"
      ]
     },
     "metadata": {},
     "execution_count": 9
    }
   ],
   "source": [
    "th, dst = cv2.threshold(src, 127, 255, cv2.THRESH_TRUNC)\n",
    "cv2.imwrite(\"openCV-threshold-trunc.jpeg\", dst)"
   ]
  },
  {
   "source": [
    "Thresholding using TOZERO"
   ],
   "cell_type": "markdown",
   "metadata": {}
  },
  {
   "cell_type": "code",
   "execution_count": 10,
   "metadata": {},
   "outputs": [
    {
     "output_type": "execute_result",
     "data": {
      "text/plain": [
       "True"
      ]
     },
     "metadata": {},
     "execution_count": 10
    }
   ],
   "source": [
    "th, dst = cv2.threshold(src, 127, 255, cv2.THRESH_TOZERO)\n",
    "cv2.imwrite(\"openCV-threshold-tozero.jpeg\", dst)"
   ]
  },
  {
   "source": [
    "Thresholding using TOZERO_INV"
   ],
   "cell_type": "markdown",
   "metadata": {}
  },
  {
   "cell_type": "code",
   "execution_count": 13,
   "metadata": {},
   "outputs": [
    {
     "output_type": "execute_result",
     "data": {
      "text/plain": [
       "True"
      ]
     },
     "metadata": {},
     "execution_count": 13
    }
   ],
   "source": [
    "th, dst = cv2.threshold(src, 127, 255, cv2.THRESH_TOZERO_INV)\n",
    "cv2.imwrite(\"openCV-threshold-tozero-inv.jpeg\", dst)"
   ]
  },
  {
   "cell_type": "code",
   "execution_count": null,
   "metadata": {},
   "outputs": [],
   "source": []
  }
 ]
}